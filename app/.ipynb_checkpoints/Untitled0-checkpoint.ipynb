{
  "nbformat": 4,
  "nbformat_minor": 0,
  "metadata": {
    "colab": {
      "provenance": []
    },
    "kernelspec": {
      "name": "python3",
      "display_name": "Python 3"
    },
    "language_info": {
      "name": "python"
    }
  },
  "cells": [
    {
      "cell_type": "code",
      "execution_count": 1,
      "metadata": {
        "colab": {
          "base_uri": "https://localhost:8080/"
        },
        "id": "_Ingufutl0jh",
        "outputId": "cc59713e-e4ff-4bfd-b9ca-8b40ceabc1ae"
      },
      "outputs": [
        {
          "output_type": "stream",
          "name": "stdout",
          "text": [
            "helllo world\n"
          ]
        }
      ],
      "source": [
        "print(\"helllo world\")"
      ]
    },
    {
      "cell_type": "code",
      "source": [],
      "metadata": {
        "id": "VCAfJra8nH4e"
      },
      "execution_count": null,
      "outputs": []
    }
  ]
}