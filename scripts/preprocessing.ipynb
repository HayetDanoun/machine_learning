{
 "cells": [
  {
   "cell_type": "code",
   "execution_count": 4,
   "id": "13e9216c-5d63-4449-b9ec-a9ffa53541f1",
   "metadata": {},
   "outputs": [],
   "source": [
    "import numpy as np\n",
    "import pandas as pd\n",
    "from sklearn.preprocessing import StandardScaler\n",
    "from sklearn.decomposition import PCA\n",
    "import pickle\n",
    "import os\n",
    "from PIL import Image\n"
   ]
  },
  {
   "cell_type": "code",
   "execution_count": 16,
   "id": "584c8739-67e6-4f33-9c87-5ef5ba99a92f",
   "metadata": {},
   "outputs": [
    {
     "name": "stdout",
     "output_type": "stream",
     "text": [
      "Erreur de chargement de l'image : PetImages/Cat/10125.jpg\n",
      "Erreur de chargement de l'image : PetImages/Cat/10404.jpg\n",
      "Erreur de chargement de l'image : PetImages/Cat/10501.jpg\n",
      "Erreur de chargement de l'image : PetImages/Cat/10820.jpg\n",
      "Total des images chargées : 996\n",
      "Shape of image vectors: (996, 12288)\n"
     ]
    }
   ],
   "source": [
    "import os\n",
    "import numpy as np\n",
    "import cv2\n",
    "\n",
    "def load_and_preprocess_images(data_folder, max_images_per_class=1000):\n",
    "    \"\"\"Charger et prétraiter les images pour les transformer en vecteurs.\"\"\"\n",
    "    \n",
    "    image_data = []\n",
    "    labels = []\n",
    "    total_loaded = 0  # Compteur d'images chargées\n",
    "\n",
    "    # Charger et prétraiter les images\n",
    "    if os.path.isdir(data_folder):\n",
    "        images = [\n",
    "            img for img in os.listdir(data_folder) if img.endswith((\".jpg\", \".png\"))\n",
    "        ]\n",
    "        selected_images = images[:max_images_per_class]\n",
    "\n",
    "        for image_file in selected_images:\n",
    "            img_path = os.path.join(data_folder, image_file)\n",
    "            img = cv2.imread(img_path)\n",
    "\n",
    "            if img is None:\n",
    "                print(f\"Erreur de chargement de l'image : {img_path}\")\n",
    "                continue\n",
    "\n",
    "            img = cv2.resize(img, (64, 64))  # Redimensionner à 64x64\n",
    "            img_vector = img.flatten()  # Aplatir le tableau d'image\n",
    "            image_data.append(img_vector)\n",
    "            labels.append(\"Cat\")  # Ajouter une étiquette pour toutes les images\n",
    "            total_loaded += 1  # Incrémente le compteur d'images\n",
    "\n",
    "        print(f\"Total des images chargées : {total_loaded}\")  # Affiche le total chargé\n",
    "        return np.array(image_data), np.array(labels)\n",
    "    else:\n",
    "        print(\"Le dossier n'existe pas :\", data_folder)\n",
    "        return np.array([]), np.array([])\n",
    "\n",
    "# Exemple d'utilisation\n",
    "if __name__ == \"__main__\":\n",
    "    DATA_FOLDER = \"PetImages/Cat\"  # Chemin vers le sous-dossier contenant les images de chats\n",
    "\n",
    "    # Vérifier si le dossier existe\n",
    "    if os.path.exists(DATA_FOLDER):\n",
    "        image_vectors, labels = load_and_preprocess_images(DATA_FOLDER)\n",
    "\n",
    "        # Afficher la forme des vecteurs d'image\n",
    "        print(\"Shape of image vectors:\", image_vectors.shape)\n",
    "    else:\n",
    "        print(\"Le dossier n'existe pas :\", DATA_FOLDER)\n"
   ]
  },
  {
   "cell_type": "code",
   "execution_count": 17,
   "id": "221cf3c6-2856-4c45-b49e-6d9b94cf8d2d",
   "metadata": {},
   "outputs": [
    {
     "name": "stdout",
     "output_type": "stream",
     "text": [
      "Erreur de chargement de l'image : PetImages/Cat/10125.jpg - peut-être un fichier corrompu ou un format non pris en charge.\n",
      "Erreur de chargement de l'image : PetImages/Cat/10404.jpg - peut-être un fichier corrompu ou un format non pris en charge.\n",
      "Erreur de chargement de l'image : PetImages/Cat/10501.jpg - peut-être un fichier corrompu ou un format non pris en charge.\n",
      "Erreur de chargement de l'image : PetImages/Cat/10820.jpg - peut-être un fichier corrompu ou un format non pris en charge.\n",
      "Total des images chargées : 996\n",
      "Shape of image vectors: (996, 12288)\n"
     ]
    }
   ],
   "source": [
    "import os\n",
    "import numpy as np\n",
    "import cv2\n",
    "\n",
    "def load_and_preprocess_images(data_folder, max_images_per_class=1000):\n",
    "    \"\"\"Charger et prétraiter les images pour les transformer en vecteurs.\"\"\"\n",
    "    \n",
    "    image_data = []\n",
    "    labels = []\n",
    "    total_loaded = 0  # Compteur d'images chargées\n",
    "\n",
    "    # Charger et prétraiter les images\n",
    "    if os.path.isdir(data_folder):\n",
    "        images = [\n",
    "            img for img in os.listdir(data_folder) if img.endswith((\".jpg\", \".png\"))\n",
    "        ]\n",
    "        selected_images = images[:max_images_per_class]\n",
    "\n",
    "        for image_file in selected_images:\n",
    "            img_path = os.path.join(data_folder, image_file)\n",
    "            img = cv2.imread(img_path)\n",
    "\n",
    "            # Vérifier si l'image a été chargée correctement\n",
    "            if img is None:\n",
    "                print(f\"Erreur de chargement de l'image : {img_path} - peut-être un fichier corrompu ou un format non pris en charge.\")\n",
    "                continue\n",
    "\n",
    "            img = cv2.resize(img, (64, 64))  # Redimensionner à 64x64\n",
    "            img_vector = img.flatten()  # Aplatir le tableau d'image\n",
    "            image_data.append(img_vector)\n",
    "            labels.append(\"Cat\")  # Ajouter une étiquette pour toutes les images\n",
    "            total_loaded += 1  # Incrémente le compteur d'images\n",
    "\n",
    "        print(f\"Total des images chargées : {total_loaded}\")  # Affiche le total chargé\n",
    "        return np.array(image_data), np.array(labels)\n",
    "    else:\n",
    "        print(\"Le dossier n'existe pas :\", data_folder)\n",
    "        return np.array([]), np.array([])\n",
    "\n",
    "# Exemple d'utilisation\n",
    "if __name__ == \"__main__\":\n",
    "    DATA_FOLDER = \"PetImages/Cat\"  # Chemin vers le sous-dossier contenant les images de chats\n",
    "\n",
    "    # Vérifier si le dossier existe\n",
    "    if os.path.exists(DATA_FOLDER):\n",
    "        image_vectors, labels = load_and_preprocess_images(DATA_FOLDER)\n",
    "\n",
    "        # Afficher la forme des vecteurs d'image\n",
    "        print(\"Shape of image vectors:\", image_vectors.shape)\n",
    "    else:\n",
    "        print(\"Le dossier n'existe pas :\", DATA_FOLDER)\n"
   ]
  },
  {
   "cell_type": "code",
   "execution_count": 18,
   "id": "f4e3ebff-4482-4780-b639-73992bcaee93",
   "metadata": {},
   "outputs": [
    {
     "data": {
      "text/plain": [
       "12500"
      ]
     },
     "execution_count": 18,
     "metadata": {},
     "output_type": "execute_result"
    }
   ],
   "source": [
    "len([f for f in os.listdir(\"PetImages/Cat\") if f.endswith((\".jpg\", \".png\"))])\n",
    "\n"
   ]
  },
  {
   "cell_type": "code",
   "execution_count": 19,
   "id": "0f9f4908-40ab-4680-88de-41d74fdc6415",
   "metadata": {},
   "outputs": [
    {
     "name": "stdout",
     "output_type": "stream",
     "text": [
      "Erreur de chargement de l'image : PetImages/Cat/666.jpg, Erreur: cannot identify image file 'PetImages/Cat/666.jpg'\n",
      "Total des images chargées : 12499\n",
      "Shape of image vectors: (12499,)\n"
     ]
    }
   ],
   "source": [
    "import os\n",
    "from PIL import Image\n",
    "import numpy as np\n",
    "\n",
    "DATA_FOLDER = \"PetImages/Cat\"  # Remplacez par le bon chemin d'accès à votre dossier\n",
    "image_data = []\n",
    "\n",
    "# Compteur d'images chargées\n",
    "loaded_count = 0\n",
    "\n",
    "for image_file in os.listdir(DATA_FOLDER):\n",
    "    if image_file.endswith((\".jpg\", \".png\")):\n",
    "        image_path = os.path.join(DATA_FOLDER, image_file)\n",
    "        try:\n",
    "            # Charger et redimensionner l'image\n",
    "            image = Image.open(image_path).resize((64, 64)).convert(\"L\")  # Redimensionner à 64x64 et convertir en niveaux de gris\n",
    "            image_array = np.array(image)  # Convertir l'image en tableau numpy\n",
    "\n",
    "            # Calculer un vecteur d'embedding simple en prenant la moyenne des pixels\n",
    "            embedding = image_array.flatten().mean()\n",
    "            image_data.append(embedding)  # Ajouter le vecteur d'embedding à la liste\n",
    "            loaded_count += 1\n",
    "        except Exception as e:\n",
    "            print(f\"Erreur de chargement de l'image : {image_path}, Erreur: {e}\")\n",
    "\n",
    "print(f\"Total des images chargées : {loaded_count}\")\n",
    "print(f\"Shape of image vectors: {np.array(image_data).shape}\")  # Afficher la forme des vecteurs d'embedding\n"
   ]
  },
  {
   "cell_type": "code",
   "execution_count": 22,
   "id": "6709a89f-b70d-4e11-8724-0a18a7ec41ad",
   "metadata": {},
   "outputs": [
    {
     "name": "stdout",
     "output_type": "stream",
     "text": [
      "Erreur de chargement de l'image : PetImages/Cat/666.jpg, Erreur: cannot identify image file 'PetImages/Cat/666.jpg'\n",
      "Erreur de chargement de l'image : PetImages/Dog/11702.jpg, Erreur: cannot identify image file 'PetImages/Dog/11702.jpg'\n",
      "Total des images chargées : 24998\n",
      "Données enregistrées dans le fichier : ref_data.csv\n"
     ]
    }
   ],
   "source": [
    "import os\n",
    "from PIL import Image\n",
    "import numpy as np\n",
    "import pandas as pd\n",
    "\n",
    "# Définir les chemins pour les images de chats et de chiens\n",
    "DATA_FOLDERS = {\n",
    "    'cat': \"PetImages/Cat\",\n",
    "    'dog': \"PetImages/Dog\"\n",
    "}\n",
    "image_data = []\n",
    "labels = []\n",
    "\n",
    "# Compteur d'images chargées\n",
    "loaded_count = 0\n",
    "\n",
    "for label, folder in DATA_FOLDERS.items():\n",
    "    for image_file in os.listdir(folder):\n",
    "        if image_file.endswith((\".jpg\", \".png\")):\n",
    "            image_path = os.path.join(folder, image_file)\n",
    "            try:\n",
    "                # Charger et redimensionner l'image\n",
    "                image = Image.open(image_path).resize((64, 64)).convert(\"L\")\n",
    "                image_array = np.array(image)\n",
    "                \n",
    "                # Calculer un vecteur d'embedding simple\n",
    "                embedding = image_array.flatten().mean()\n",
    "                image_data.append(embedding)\n",
    "                labels.append(label)  # Ajouter l'étiquette (cat ou dog)\n",
    "                loaded_count += 1\n",
    "            except Exception as e:\n",
    "                print(f\"Erreur de chargement de l'image : {image_path}, Erreur: {e}\")\n",
    "\n",
    "print(f\"Total des images chargées : {loaded_count}\")\n",
    "\n",
    "# Créer un DataFrame à partir des données d'embedding et des labels\n",
    "df = pd.DataFrame({'embedding': image_data, 'label': labels})\n",
    "\n",
    "# Spécifiez le chemin pour le fichier CSV dans le même répertoire que le notebook\n",
    "output_csv = \"ref_data.csv\"  # Enregistrer directement dans le répertoire du notebook\n",
    "\n",
    "# Enregistrer le DataFrame dans un fichier CSV\n",
    "df.to_csv(output_csv, index=False)\n",
    "print(f\"Données enregistrées dans le fichier : {output_csv}\")\n"
   ]
  },
  {
   "cell_type": "code",
   "execution_count": 1,
   "id": "144a67b0-b00b-48e6-8205-165f3d5bad64",
   "metadata": {},
   "outputs": [
    {
     "name": "stdout",
     "output_type": "stream",
     "text": [
      "Erreur de chargement de l'image : PetImages/Cat/666.jpg, Erreur: cannot identify image file 'PetImages/Cat/666.jpg'\n",
      "Erreur de chargement de l'image : PetImages/Dog/11702.jpg, Erreur: cannot identify image file 'PetImages/Dog/11702.jpg'\n"
     ]
    },
    {
     "name": "stderr",
     "output_type": "stream",
     "text": [
      "/opt/conda/lib/python3.11/site-packages/PIL/TiffImagePlugin.py:868: UserWarning: Truncated File Read\n",
      "  warnings.warn(str(msg))\n"
     ]
    },
    {
     "name": "stdout",
     "output_type": "stream",
     "text": [
      "Total des images chargées : 24998\n",
      "Données enregistrées dans le fichier : ref_data.csv\n"
     ]
    }
   ],
   "source": [
    "import os\n",
    "from PIL import Image\n",
    "import numpy as np\n",
    "import pandas as pd\n",
    "\n",
    "# Définir les chemins pour les images de chats et de chiens\n",
    "DATA_FOLDERS = {\n",
    "    'cat': \"PetImages/Cat\",\n",
    "    'dog': \"PetImages/Dog\"\n",
    "}\n",
    "image_data = []\n",
    "labels = []\n",
    "\n",
    "# Compteur d'images chargées\n",
    "loaded_count = 0\n",
    "\n",
    "for label, folder in DATA_FOLDERS.items():\n",
    "    for image_file in os.listdir(folder):\n",
    "        if image_file.endswith((\".jpg\", \".png\")):\n",
    "            image_path = os.path.join(folder, image_file)\n",
    "            try:\n",
    "                # Charger et redimensionner l'image\n",
    "                image = Image.open(image_path).resize((32, 32)).convert(\"L\")\n",
    "                image_array = np.array(image)\n",
    "\n",
    "                # Calculer un vecteur d'embedding simple\n",
    "                embedding = image_array.flatten().mean()\n",
    "                image_data.append(embedding)\n",
    "                labels.append(label)  # Ajouter l'étiquette (cat ou dog)\n",
    "                loaded_count += 1\n",
    "            except Exception as e:\n",
    "                print(f\"Erreur de chargement de l'image : {image_path}, Erreur: {e}\")\n",
    "\n",
    "print(f\"Total des images chargées : {loaded_count}\")\n",
    "\n",
    "# Créer un DataFrame à partir des données d'embedding et des labels\n",
    "df = pd.DataFrame({'embedding': image_data, 'label': labels})\n",
    "\n",
    "# Enregistrer le DataFrame dans un fichier CSV\n",
    "output_csv = \"ref_data.csv\"\n",
    "df.to_csv(output_csv, index=False)\n",
    "print(f\"Données enregistrées dans le fichier : {output_csv}\")\n"
   ]
  },
  {
   "cell_type": "code",
   "execution_count": 5,
   "id": "3f676158-2912-437b-896f-630eadec0708",
   "metadata": {},
   "outputs": [
    {
     "name": "stdout",
     "output_type": "stream",
     "text": [
      "Erreur de chargement de l'image : PetImages/Cat/666.jpg, Erreur: cannot identify image file 'PetImages/Cat/666.jpg'\n",
      "Erreur de chargement de l'image : PetImages/Dog/11702.jpg, Erreur: cannot identify image file 'PetImages/Dog/11702.jpg'\n"
     ]
    },
    {
     "name": "stderr",
     "output_type": "stream",
     "text": [
      "/opt/conda/lib/python3.11/site-packages/PIL/TiffImagePlugin.py:868: UserWarning: Truncated File Read\n",
      "  warnings.warn(str(msg))\n"
     ]
    },
    {
     "name": "stdout",
     "output_type": "stream",
     "text": [
      "Total des images chargées : 24998\n",
      "Données enregistrées dans le fichier : ref_data.csv\n"
     ]
    }
   ],
   "source": [
    "import os\n",
    "import numpy as np\n",
    "import pandas as pd\n",
    "from PIL import Image\n",
    "\n",
    "# Définir les chemins pour les images de chats et de chiens\n",
    "DATA_FOLDERS = {\n",
    "    'cat': \"PetImages/Cat\",\n",
    "    'dog': \"PetImages/Dog\"\n",
    "}\n",
    "\n",
    "image_data = []\n",
    "labels = []\n",
    "\n",
    "# Compteur d'images chargées\n",
    "loaded_count = 0\n",
    "\n",
    "for label, folder in DATA_FOLDERS.items():\n",
    "    for image_file in os.listdir(folder):\n",
    "        if image_file.endswith((\".jpg\", \".png\")):\n",
    "            image_path = os.path.join(folder, image_file)\n",
    "            try:\n",
    "                # Charger et redimensionner l'image\n",
    "                image = Image.open(image_path).resize((32, 32)).convert(\"L\")  # Redimensionner à 64x64 et convertir en niveaux de gris\n",
    "                image_array = np.array(image)  # Convertir l'image en tableau numpy\n",
    "\n",
    "                # Aplatir l'image en un vecteur\n",
    "                vector = image_array.flatten()  # Transformer l'image en vecteur\n",
    "                image_data.append(vector)  # Ajouter le vecteur à la liste\n",
    "                labels.append(label)  # Ajouter l'étiquette (cat ou dog)\n",
    "                loaded_count += 1\n",
    "            except Exception as e:\n",
    "                print(f\"Erreur de chargement de l'image : {image_path}, Erreur: {e}\")\n",
    "\n",
    "print(f\"Total des images chargées : {loaded_count}\")\n",
    "\n",
    "# Créer un DataFrame à partir des données d'image et des labels\n",
    "df = pd.DataFrame(image_data)\n",
    "df['label'] = labels  # Ajouter la colonne des étiquettes\n",
    "\n",
    "# Enregistrer le DataFrame dans un fichier CSV\n",
    "output_csv = \"ref_data.csv\"\n",
    "df.to_csv(output_csv, index=False)\n",
    "print(f\"Données enregistrées dans le fichier : {output_csv}\")\n"
   ]
  },
  {
   "cell_type": "code",
   "execution_count": 8,
   "id": "4741afef-5f05-4ec3-872f-5bee8d5bb6c6",
   "metadata": {},
   "outputs": [],
   "source": [
    "from sklearn.preprocessing import StandardScaler\n",
    "import numpy as np\n",
    "\n",
    "def normalize_data(X_train, X_test):\n",
    "    \n",
    "    scaler = StandardScaler()\n",
    "    X_train_normalized = scaler.fit_transform(X_train)  # Ajuster et transformer les données d'entraînement\n",
    "    X_test_normalized = scaler.transform(X_test)        # Transformer les données de test\n",
    "    \n",
    "    return X_train_normalized, X_test_normalized"
   ]
  },
  {
   "cell_type": "code",
   "execution_count": 19,
   "id": "5f8253fc-a65b-46e0-932b-25df3e2cd9ba",
   "metadata": {},
   "outputs": [
    {
     "name": "stdout",
     "output_type": "stream",
     "text": [
      "ROC: 0.70\n",
      "F1 Score: 0.69\n"
     ]
    },
    {
     "data": {
      "image/png": "[encoded data removed]",
      "text/plain": [
       "<Figure size 640x480 with 1 Axes>"
      ]
     },
     "metadata": {},
     "output_type": "display_data"
    },
    {
     "data": {
      "image/png": "[encoded data removed]",
      "text/plain": [
       "<Figure size 640x480 with 2 Axes>"
      ]
     },
     "metadata": {},
     "output_type": "display_data"
    }
   ],
   "source": [
    "import pandas as pd\n",
    "from sklearn.model_selection import train_test_split\n",
    "from sklearn.ensemble import RandomForestClassifier\n",
    "from sklearn.metrics import roc_auc_score, f1_score, confusion_matrix, ConfusionMatrixDisplay, roc_curve\n",
    "import matplotlib.pyplot as plt\n",
    "from sklearn.preprocessing import LabelEncoder, StandardScaler\n",
    "\n",
    "def load_data(filepath):\n",
    "    \"\"\"Charge le jeu de données à partir d'un fichier CSV.\"\"\"\n",
    "    return pd.read_csv(filepath)\n",
    "\n",
    "def preprocess_data(df):\n",
    "    \"\"\"Sépare les caractéristiques et les étiquettes, et encode les étiquettes.\"\"\"\n",
    "    X = df.drop(columns=['label'])  # Caractéristiques (vecteurs d'images)\n",
    "    y = df['label']  # Étiquettes\n",
    "    # Encoder les étiquettes\n",
    "    encoder = LabelEncoder()\n",
    "    y_encoded = encoder.fit_transform(y)  # Encode les étiquettes en entiers\n",
    "    return X, y_encoded  # Ne retourne plus l'encodeur\n",
    "\n",
    "def normalize_data(X_train, X_test):\n",
    "    \"\"\"Normalise les données d'entraînement et de test.\"\"\"\n",
    "    scaler = StandardScaler()\n",
    "    X_train_normalized = scaler.fit_transform(X_train)  # Ajuster et transformer les données d'entraînement\n",
    "    X_test_normalized = scaler.transform(X_test)        # Transformer les données de test\n",
    "    return X_train_normalized, X_test_normalized\n",
    "\n",
    "def train_model(X_train, y_train):\n",
    "    \"\"\"Entraîne un modèle de Random Forest.\"\"\"\n",
    "    model = RandomForestClassifier(random_state=42)  # Fixer le random_state pour la reproductibilité\n",
    "    model.fit(X_train, y_train)\n",
    "    return model\n",
    "\n",
    "def evaluate_model(model, X_test, y_test):\n",
    "    \"\"\"Évalue le modèle en calculant l'AUC-ROC et le F1 Score.\"\"\"\n",
    "    y_pred_prob = model.predict_proba(X_test)[:, 1]  # Probabilités pour la classe positive\n",
    "    auc_roc = roc_auc_score(y_test, y_pred_prob)\n",
    "    y_pred = (y_pred_prob >= 0.5).astype(int)  # Seuil de 0.5 pour les prédictions binaires\n",
    "    f1 = f1_score(y_test, y_pred)\n",
    "    return auc_roc, f1, y_pred_prob, y_pred\n",
    "\n",
    "def plot_roc_curve(y_test, y_pred_prob, auc_roc):\n",
    "    \"\"\"Trace la courbe ROC.\"\"\"\n",
    "    fpr, tpr, _ = roc_curve(y_test, y_pred_prob)\n",
    "    plt.figure()\n",
    "    plt.plot(fpr, tpr, label=f'Courbe ROC (AUC = {auc_roc:.2f})')\n",
    "    plt.plot([0, 1], [0, 1], 'k--')  # Ligne diagonale\n",
    "    plt.xlim([0.0, 1.0])\n",
    "    plt.ylim([0.0, 1.05])\n",
    "    plt.xlabel('Taux de Faux Positifs')\n",
    "    plt.ylabel('Taux de Vrais Positifs')\n",
    "    plt.title('Courbe ROC')\n",
    "    plt.legend(loc='lower right')\n",
    "    plt.show()\n",
    "\n",
    "def plot_confusion_matrix(y_test, y_pred):\n",
    "    \"\"\"Affiche la matrice de confusion.\"\"\"\n",
    "    cm = confusion_matrix(y_test, y_pred)\n",
    "    disp = ConfusionMatrixDisplay(confusion_matrix=cm)\n",
    "    disp.plot(cmap=plt.cm.Blues)\n",
    "    plt.title('Matrice de Confusion')\n",
    "    plt.show()\n",
    "\n",
    "if __name__ == \"__main__\":\n",
    "    # Chargement des données\n",
    "    df = load_data(\"ref_data.csv\")\n",
    "\n",
    "    # Prétraitement des données\n",
    "    X, y = preprocess_data(df)  # Ne retourne plus l'encodeur\n",
    "    X_train, X_test, y_train, y_test = train_test_split(X, y, test_size=0.2, random_state=42)\n",
    "\n",
    "    # Normalisation des données\n",
    "    X_train_normalized, X_test_normalized = normalize_data(X_train, X_test)\n",
    "\n",
    "    # Entraînement du modèle\n",
    "    model = train_model(X_train_normalized, y_train)\n",
    "\n",
    "    # Évaluation du modèle\n",
    "    auc_roc, f1, y_pred_prob, y_pred = evaluate_model(model, X_test_normalized, y_test)\n",
    "    print(f\"ROC: {auc_roc:.2f}\")\n",
    "    print(f\"F1 Score: {f1:.2f}\")\n",
    "\n",
    "    # Tracer la courbe ROC\n",
    "    plot_roc_curve(y_test, y_pred_prob, auc_roc)\n",
    "    plot_confusion_matrix(y_test, y_pred)\n"
   ]
  },
  {
   "cell_type": "code",
   "execution_count": null,
   "id": "73cef46d-53eb-4d50-828e-4f2e16e89413",
   "metadata": {},
   "outputs": [],
   "source": []
  }
 ],
 "metadata": {
  "kernelspec": {
   "display_name": "Python 3 (ipykernel)",
   "language": "python",
   "name": "python3"
  },
  "language_info": {
   "codemirror_mode": {
    "name": "ipython",
    "version": 3
   },
   "file_extension": ".py",
   "mimetype": "text/x-python",
   "name": "python",
   "nbconvert_exporter": "python",
   "pygments_lexer": "ipython3",
   "version": "3.11.6"
  }
 },
 "nbformat": 4,
 "nbformat_minor": 5
}
